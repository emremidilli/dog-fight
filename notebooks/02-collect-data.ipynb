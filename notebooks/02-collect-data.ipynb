{
 "cells": [
  {
   "cell_type": "markdown",
   "id": "d9762cf1-4f24-4118-94ce-6fe21f0f0c01",
   "metadata": {
    "jp-MarkdownHeadingCollapsed": true
   },
   "source": [
    "# Description"
   ]
  },
  {
   "cell_type": "markdown",
   "id": "74fb3add-4876-4301-9628-17ef5bd5820e",
   "metadata": {},
   "source": [
    "```\n",
    "take IA mode to engage with the enemy.\n",
    "\n",
    "every 5 seconds:\n",
    "    send random tactiques\n",
    "        - set_plane_thrust()\n",
    "        - set_plane_brake ()\n",
    "        - set_plane_flaps ()\n",
    "        - activate_post_combustion ()\n",
    "        - set_plane_pitch ()\n",
    "        - set_plane_roll ()\n",
    "        - set_plane_yaw ()\n",
    "        - stabilize_plane ()\n",
    "```\n",
    "\n",
    "Dogfight Sandbox client example\n",
    "This script show how to use the network mode to controls aircrafts.\n",
    "Before starts this script, Dogfight Sandbox must be running in \"Network mode\"\n",
    "dogfight_client.py is the library needed to communicate with DogFight sandbox"
   ]
  },
  {
   "cell_type": "markdown",
   "id": "5da03b1b-e279-40a0-a26e-4d6f6253b6da",
   "metadata": {},
   "source": [
    "# Constants"
   ]
  },
  {
   "cell_type": "code",
   "execution_count": null,
   "id": "7e3c20e0-7c3d-43b7-9222-4e41a8571bf9",
   "metadata": {},
   "outputs": [],
   "source": [
    "IP = '172.16.17.116'\n",
    "PORT = 50888\n",
    "NR_OF_EPISODES = 1000\n",
    "MAX_EPISODE_TO_SET_CONFIG = 5\n",
    "FREQ_SET_CONFIG = 5"
   ]
  },
  {
   "cell_type": "markdown",
   "id": "5b33fcd4-f57f-4bb1-aae3-7de57e89766d",
   "metadata": {
    "jp-MarkdownHeadingCollapsed": true
   },
   "source": [
    "# Libraries"
   ]
  },
  {
   "cell_type": "code",
   "execution_count": null,
   "id": "22bdffb8-5ebf-4e00-9fb4-4e73036326fa",
   "metadata": {},
   "outputs": [],
   "source": [
    "import sys\n",
    "import os\n",
    "\n",
    "# Add the parent directory to sys.path\n",
    "sys.path.append(os.path.abspath('../src/network_client_example'))\n",
    "\n",
    "import dogfight_client as dgfc\n",
    "\n",
    "import json\n",
    "\n",
    "import pandas as pd\n",
    "\n",
    "import random\n",
    "\n",
    "import sqlite3\n",
    "\n",
    "import time\n",
    "\n",
    "from tqdm import tqdm"
   ]
  },
  {
   "cell_type": "markdown",
   "id": "a0e9b233-8f5a-47a3-8fba-33b72077c81b",
   "metadata": {
    "jp-MarkdownHeadingCollapsed": true
   },
   "source": [
    "# Connect to Simulator"
   ]
  },
  {
   "cell_type": "code",
   "execution_count": null,
   "id": "2fc6c712-d005-4c75-bdc9-27240e5a9e20",
   "metadata": {},
   "outputs": [],
   "source": [
    "# Enter the IP and port displayed in top-left corner of DogFight screen\n",
    "dgfc.connect(IP, PORT)\n",
    "\n",
    "time.sleep(2)\n",
    "\n",
    "# Get the whole planes list in DogFight scene\n",
    "# returns a list that contains planes id\n",
    "planes = dgfc.get_planes_list()\n",
    "print(str(planes))\n",
    "\n",
    "dgfc.disable_log()\n",
    "\n",
    "# Get the id of the plane you want to control\n",
    "our_id = planes[0]"
   ]
  },
  {
   "cell_type": "markdown",
   "id": "2512099f-1388-4b86-9c8f-076a35139dae",
   "metadata": {
    "jp-MarkdownHeadingCollapsed": true
   },
   "source": [
    "# Set All Users to IA Mode"
   ]
  },
  {
   "cell_type": "code",
   "execution_count": null,
   "id": "a17beb2d-d277-4b4a-b21d-de77e36bec15",
   "metadata": {},
   "outputs": [],
   "source": [
    "# active all users\n",
    "for p_id in planes:\n",
    "    dgfc.activate_ia(p_id)"
   ]
  },
  {
   "cell_type": "markdown",
   "id": "e83965af-6afb-4165-987e-12846ec89518",
   "metadata": {},
   "source": [
    "# UDFs"
   ]
  },
  {
   "cell_type": "code",
   "execution_count": null,
   "id": "f6bedead-1121-4559-bde1-4e8cd7937bcc",
   "metadata": {},
   "outputs": [],
   "source": [
    "def make_post_combustion(plane_id, val):\n",
    "    '''\n",
    "    In order to make combustion, thrust level should 100.\n",
    "    It ensures this.\n",
    "    '''\n",
    "\n",
    "    if val == -1:\n",
    "        return\n",
    "        \n",
    "    # Set plane thrust level (0 to 1)\n",
    "    dgfc.set_plane_thrust(plane_id, 100)\n",
    "    \n",
    "    # Wait until plane thrust = 1\\\n",
    "    t = 0\n",
    "    while t < 1:\n",
    "    \tplane_state = dgfc.get_plane_state(plane_id)\n",
    "    \tt = plane_state['thrust_level']\n",
    "    \n",
    "    # Activate the post-combustion (increases thrust power) \n",
    "    dgfc.activate_post_combustion(plane_id)"
   ]
  },
  {
   "cell_type": "code",
   "execution_count": null,
   "id": "361659b7-dbbd-4482-88ea-df1ce16b66c0",
   "metadata": {},
   "outputs": [],
   "source": [
    "def get_random_controls():\n",
    "    '''\n",
    "    Generates random control sets.\n",
    "    '''\n",
    "    control_set = {\n",
    "        'set_plane_thrust': random.uniform(0, 1),\n",
    "        'set_plane_brake': random.uniform(0, 1),\n",
    "        'make_post_combustion': random.choice([-1, 1]),\n",
    "        'set_plane_pitch': random.uniform(-1.0, 1.0),\n",
    "        'set_plane_roll': random.uniform(-1.0, 1.0),\n",
    "        'set_plane_yaw': random.uniform(-1.0, 1.0)\n",
    "    }\n",
    "\n",
    "    seconds = random.randint(0, MAX_EPISODE_TO_SET_CONFIG)\n",
    "\n",
    "    return control_set, seconds"
   ]
  },
  {
   "cell_type": "code",
   "execution_count": null,
   "id": "590eadf2-c5f1-4e1a-8de9-04e0cdbde250",
   "metadata": {},
   "outputs": [],
   "source": [
    "def set_random_control(p_id: str):\n",
    "    random_config, random_seconds  = get_random_controls()\n",
    "\n",
    "    to_return = random_config.copy()\n",
    "    to_return['random_seconds'] = random_seconds\n",
    "    if random_seconds == 0:\n",
    "        to_return\n",
    "\n",
    "    dgfc.deactivate_ia(our_id)\n",
    "    for keys, vals in random_config.items():\n",
    "        if keys in dir(dgfc):\n",
    "            str_func = f'dgfc.{keys}(\"{p_id}\", {vals})'\n",
    "        else:\n",
    "            str_func = f'{keys}(\"{p_id}\", {vals})'\n",
    "        \n",
    "        eval(str_func)\n",
    "\n",
    "    time.sleep(random_seconds)\n",
    "    dgfc.stabilize_plane(our_id)\n",
    "    dgfc.activate_ia(our_id)\n",
    "    return to_return"
   ]
  },
  {
   "cell_type": "markdown",
   "id": "3ee97fb3-c448-4735-94dd-f04f9e8582b5",
   "metadata": {},
   "source": [
    "# Simulate"
   ]
  },
  {
   "cell_type": "code",
   "execution_count": null,
   "id": "dc3b22c3-00df-49c0-8eb8-583c0104a841",
   "metadata": {},
   "outputs": [],
   "source": [
    "# wait until our aircraft takes off.\n",
    "p = 0\n",
    "while p < 50:\n",
    "\tplane_state = dgfc.get_plane_state(our_id)\n",
    "\tp = plane_state['altitude']"
   ]
  },
  {
   "cell_type": "code",
   "execution_count": null,
   "id": "4050de60-16da-47a9-9140-4941c59f5b78",
   "metadata": {},
   "outputs": [],
   "source": [
    "simulation_id = time.time()\n",
    "all_episodes = []\n",
    "all_adjustments = []\n",
    "for i in tqdm(range(NR_OF_EPISODES)):\n",
    "    log_timestamp = time.time()\n",
    "    log_id = i\n",
    "\n",
    "    # reset the health and rearm the aircrafts.\n",
    "    for plane_id in planes:\n",
    "        dgfc.set_health(plane_id, 1)\n",
    "        dgfc.rearm_machine(plane_id)\n",
    "\n",
    "    # adjust our aircrafts randomly\n",
    "    if i % FREQ_SET_CONFIG == 0:\n",
    "        dic_adjusted = set_random_control(p_id=our_id)\n",
    "        dic_adjusted['simulation_id'] = simulation_id\n",
    "        dic_adjusted['log_id'] = log_id\n",
    "        dic_adjusted['log_timestamp'] = log_timestamp\n",
    "        dic_adjusted['log_machine_id'] = our_id\n",
    "        all_adjustments.append(dic_adjusted)\n",
    "\n",
    "    # get statistics of the aircrafts\n",
    "    single_episode = []\n",
    "    for plane_id in planes:\n",
    "        plane_state = dgfc.get_plane_state(our_id)\n",
    "\n",
    "        plane_state['simulation_id'] = simulation_id\n",
    "        plane_state['log_id'] = log_id\n",
    "        plane_state['log_timestamp'] = log_timestamp\n",
    "        plane_state['log_machine_id'] = plane_id\n",
    "\n",
    "        single_episode.append(plane_state)\n",
    "\n",
    "    all_episodes.append(single_episode)\n",
    "\n",
    "    time.sleep(2)\n",
    "\n",
    "dgfc.disconnect()"
   ]
  },
  {
   "cell_type": "markdown",
   "id": "80295110-73bc-4002-88b3-2768650c9c9b",
   "metadata": {},
   "source": [
    "# Save"
   ]
  },
  {
   "cell_type": "code",
   "execution_count": null,
   "id": "7544f8fa-3517-4d67-a337-5044df2a23d0",
   "metadata": {},
   "outputs": [],
   "source": [
    "# Create DB connection\n",
    "conn = sqlite3.connect(os.path.join('..', 'data', 'v1_logs.db'))\n",
    "cursor = conn.cursor()\n",
    "\n",
    "for arr in all_episodes:\n",
    "    df = pd\\\n",
    "    .DataFrame(arr)\\\n",
    "\n",
    "    for col in df.columns:\n",
    "        if df[col].apply(lambda x: isinstance(x, list)).any():\n",
    "            df[col] = df[col].apply(json.dumps)\n",
    "\n",
    "    df.to_sql('aircraft_states', conn, if_exists='append', index=False)\n",
    "\n",
    "df_2 = pd.DataFrame(all_adjustments)\n",
    "df_2.to_sql('aircraft_adjustments', conn, if_exists='append', index=False)\n",
    "\n",
    "conn.close()"
   ]
  }
 ],
 "metadata": {
  "kernelspec": {
   "display_name": "Python 3 (ipykernel)",
   "language": "python",
   "name": "python3"
  },
  "language_info": {
   "codemirror_mode": {
    "name": "ipython",
    "version": 3
   },
   "file_extension": ".py",
   "mimetype": "text/x-python",
   "name": "python",
   "nbconvert_exporter": "python",
   "pygments_lexer": "ipython3",
   "version": "3.11.0rc1"
  }
 },
 "nbformat": 4,
 "nbformat_minor": 5
}
