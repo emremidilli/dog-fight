{
 "cells": [
  {
   "cell_type": "markdown",
   "id": "c6113987-6e8d-4db7-8a8d-5b07ed68a94a",
   "metadata": {},
   "source": [
    "| Field Index | Variable         | Meaning                         |\n",
    "| ----------- | ---------------- | ------------------------------- |\n",
    "| `f[0]`      | Transform matrix | Position and orientation        |\n",
    "| `f[1]`      | Velocity vector  | Movement direction/speed        |\n",
    "| `f[2]`      | Health level     | Aircraft damage level           |\n",
    "| `f[3]`      | Wreck flag       | Whether the aircraft is wrecked |\n",
    "| `f[4]`      | Brake level      | Brake force on wheels           |\n",
    "| `f[5]`      | Flaps level      | Wing flaps for lift/drag        |\n",
    "| `f[6]`      | Landed flag      | Whether the aircraft has landed |\n",
    "| `f[7]`      | Target name      | Target of the targeting system  |\n"
   ]
  },
  {
   "cell_type": "markdown",
   "id": "8ac9e15c-b114-4478-b0b8-965836c2c24e",
   "metadata": {},
   "source": [
    "# Libraries"
   ]
  },
  {
   "cell_type": "code",
   "execution_count": 19,
   "id": "fe56452b-8a32-44c8-a1d7-3c7f1738bd25",
   "metadata": {},
   "outputs": [],
   "source": [
    "import numpy as np\n",
    "\n",
    "import os\n",
    "\n",
    "import pandas as pd\n",
    "\n",
    "import sqlite3"
   ]
  },
  {
   "cell_type": "markdown",
   "id": "efc20d5a-5751-49bb-9db1-00c833f04114",
   "metadata": {},
   "source": [
    "# Constants"
   ]
  },
  {
   "cell_type": "code",
   "execution_count": 20,
   "id": "25aeade5-7a02-4385-81f9-28db39e3998f",
   "metadata": {},
   "outputs": [],
   "source": [
    "DB_DIR = os.path.join('..', 'data', 'external', 'v2_logs.db')\n",
    "SAVE_DIR = os.path.join('..', 'data', 'interim', 'version_02.csv')\n",
    "RECORD_ID = 5\n",
    "COLUMN_NAMES = ['transform_matrix', 'velocity', 'health_level', 'wreck_flag', 'brake_level', 'flaps_level', 'landed_level', 'target_name']"
   ]
  },
  {
   "cell_type": "markdown",
   "id": "a1bd87cb-dbaf-4325-8ef9-ef0332ba7da5",
   "metadata": {},
   "source": [
    "# Import Data"
   ]
  },
  {
   "cell_type": "code",
   "execution_count": 21,
   "id": "3238c34c-382e-422d-a7ae-8174175ddf72",
   "metadata": {},
   "outputs": [],
   "source": [
    "conn = sqlite3.connect(DB_DIR)\n",
    "df_our = pd.read_sql_query(f'SELECT * FROM ally_1_machine_state WHERE id_rec >= {RECORD_ID}', conn)\n",
    "df_bandit = pd.read_sql_query(f'SELECT * FROM ennemy_1_machine_state WHERE id_rec >= {RECORD_ID}', conn)\n",
    "conn.close()"
   ]
  },
  {
   "cell_type": "code",
   "execution_count": 22,
   "id": "d0fb03fa-76ad-40fb-9df0-5f80686b859e",
   "metadata": {},
   "outputs": [
    {
     "data": {
      "text/plain": [
       "['-0.080891;0.012988;-0.996638;-4135.735840;-0.000001;0.999915;0.013031;512.866882;0.996723;0.001055;-0.080884;535.999634',\n",
       " '-230.656006;10.493129;-22.567677',\n",
       " '0.7929427291732906',\n",
       " '',\n",
       " '0',\n",
       " '0',\n",
       " '',\n",
       " 'ennemy_1']"
      ]
     },
     "execution_count": 22,
     "metadata": {},
     "output_type": "execute_result"
    }
   ],
   "source": [
    "df_our.iloc[-1].v.split(':')"
   ]
  },
  {
   "cell_type": "code",
   "execution_count": 23,
   "id": "3196c74a-a48e-4533-b90a-6f33f80e717e",
   "metadata": {},
   "outputs": [
    {
     "data": {
      "text/plain": [
       "['-0.080891;0.012988;-0.996638;-4124.717773;-0.000001;0.999915;0.013031;512.370544;0.996723;0.001055;-0.080884;537.078735',\n",
       " '-230.264664;10.361356;-22.552729',\n",
       " '0.7929427291732906',\n",
       " '',\n",
       " '0',\n",
       " '0',\n",
       " '',\n",
       " 'ennemy_1']"
      ]
     },
     "execution_count": 23,
     "metadata": {},
     "output_type": "execute_result"
    }
   ],
   "source": [
    "df_our.iloc[-2].v.split(':')"
   ]
  },
  {
   "cell_type": "markdown",
   "id": "9384d7da-e0ae-4a8d-a489-d92d2b130654",
   "metadata": {},
   "source": [
    "# Preprocess"
   ]
  },
  {
   "cell_type": "markdown",
   "id": "68834a9c-43f8-4ce2-abd9-67c6abb61380",
   "metadata": {},
   "source": [
    "## Split column [v]"
   ]
  },
  {
   "cell_type": "code",
   "execution_count": 24,
   "id": "c0cea40e-abbf-401c-91fa-620a7356116f",
   "metadata": {},
   "outputs": [],
   "source": [
    "def split_column_v(df_0: pd.DataFrame) -> pd.DataFrame: \n",
    "    '''\n",
    "    splits column [v] to its parts.\n",
    "    '''\n",
    "\n",
    "    df_1 = df_0\\\n",
    "        .drop(columns=['v'])\n",
    "    \n",
    "    df_2 = df_0\\\n",
    "        .loc[:, 'v']\\\n",
    "        .str\\\n",
    "        .split(':', expand=True)\\\n",
    "        .set_axis(COLUMN_NAMES, axis=1)\n",
    "    \n",
    "    df_3 = pd.concat([df_1, df_2], axis=1)\n",
    "\n",
    "    return df_3\n",
    "\n",
    "df_our = split_column_v(df_our)\n",
    "df_bandit = split_column_v(df_bandit)"
   ]
  },
  {
   "cell_type": "markdown",
   "id": "80fafc45-1885-41cb-9ade-42f8d84fcb15",
   "metadata": {
    "jp-MarkdownHeadingCollapsed": true
   },
   "source": [
    "## Split transformation matrix"
   ]
  },
  {
   "cell_type": "code",
   "execution_count": 25,
   "id": "84d6d8d9-cd76-47f2-842e-71ac8bea3060",
   "metadata": {},
   "outputs": [],
   "source": [
    "def split_transform_matrix(df_0: pd.DataFrame) -> pd.DataFrame:\n",
    "    '''\n",
    "    splits transform matrix and converts to float.\n",
    "    '''\n",
    "\n",
    "    df_1 = df_0\\\n",
    "        .drop(columns=['transform_matrix'])\\\n",
    "        .copy()\n",
    "    \n",
    "    df_2 = df_0\\\n",
    "        .loc[:, 'transform_matrix']\\\n",
    "        .str\\\n",
    "        .split(';', expand=True)\\\n",
    "        .astype(float)\\\n",
    "        .add_prefix('transform_matrix_')\n",
    "    \n",
    "    df_3 = pd.concat([df_1, df_2], axis=1)\n",
    "    \n",
    "    return df_3\n",
    "\n",
    "df_our = split_transform_matrix(df_our)\n",
    "df_bandit = split_transform_matrix(df_bandit)"
   ]
  },
  {
   "cell_type": "markdown",
   "id": "c2c3e5fc-9307-4409-9a36-c90d5d243f59",
   "metadata": {
    "jp-MarkdownHeadingCollapsed": true
   },
   "source": [
    "## Split velocity vector"
   ]
  },
  {
   "cell_type": "code",
   "execution_count": 26,
   "id": "e99b35c4-93c1-4880-984f-b2938f61875f",
   "metadata": {},
   "outputs": [],
   "source": [
    "def split_velocity_vector(df_0: pd.DataFrame) -> pd.DataFrame:\n",
    "    '''\n",
    "    splits transform matrix and converts to float.\n",
    "    '''\n",
    "\n",
    "    COLS = ['velocity_x', 'velocity_y', 'velocity_z']\n",
    "\n",
    "    df_1 = df_0\\\n",
    "        .drop(columns=['velocity'])\\\n",
    "        .copy()\n",
    "    \n",
    "    df_2 = df_0\\\n",
    "        .loc[:, 'velocity']\\\n",
    "        .str\\\n",
    "        .split(';', expand=True)\\\n",
    "        .astype(float)\\\n",
    "        .set_axis(COLS, axis=1)\n",
    "    \n",
    "    df_3 = pd.concat([df_1, df_2], axis=1)\n",
    "    \n",
    "    return df_3\n",
    "\n",
    "df_our = split_velocity_vector(df_our)\n",
    "df_bandit = split_velocity_vector(df_bandit)"
   ]
  },
  {
   "cell_type": "markdown",
   "id": "7a1346a5-12a5-4f28-b097-df8faa4e284f",
   "metadata": {
    "jp-MarkdownHeadingCollapsed": true
   },
   "source": [
    "## Build target identified flag"
   ]
  },
  {
   "cell_type": "code",
   "execution_count": 27,
   "id": "50601207-ce37-4acc-818d-e65ed287d377",
   "metadata": {},
   "outputs": [],
   "source": [
    "df_our.loc[:, 'bandit_is_targetted'] = df_our.loc[:, 'target_name'].isna().astype(int)\n",
    "df_bandit.loc[:, 'bandit_is_targetted'] = df_bandit.loc[:, 'target_name'].isna().astype(int)\n",
    "\n",
    "df_our.drop(columns=['target_name'], inplace=True)\n",
    "df_bandit.drop(columns=['target_name'], inplace=True)"
   ]
  },
  {
   "cell_type": "markdown",
   "id": "21ce81f1-b682-4c4d-b90e-e82a734e2625",
   "metadata": {},
   "source": [
    "## Remove unncessary columns"
   ]
  },
  {
   "cell_type": "code",
   "execution_count": 28,
   "id": "c8d45cbd-e77e-443a-9f26-f6e0338c5293",
   "metadata": {},
   "outputs": [],
   "source": [
    "COLS = ['wreck_flag', 'landed_level']\n",
    "df_our.drop(columns=COLS, errors='ignore', inplace=True)\n",
    "df_bandit.drop(columns=COLS, errors='ignore', inplace=True)"
   ]
  },
  {
   "cell_type": "markdown",
   "id": "dd1b502b-3e8d-4bf5-81b8-a9b81b1ae0e7",
   "metadata": {},
   "source": [
    "## Convert fields to float"
   ]
  },
  {
   "cell_type": "code",
   "execution_count": 29,
   "id": "f9bdbe02-cf02-4ff8-b35b-389369d09704",
   "metadata": {
    "scrolled": true
   },
   "outputs": [],
   "source": [
    "COLS = ['health_level', 'brake_level', 'flaps_level']\n",
    "for col in COLS:\n",
    "    df_our[col] = df_our\\\n",
    "        .loc[:, col]\\\n",
    "        .astype(np.float64)\n",
    "\n",
    "    df_bandit[col] = df_bandit\\\n",
    "        .loc[:, col]\\\n",
    "        .astype(np.float64)"
   ]
  },
  {
   "cell_type": "markdown",
   "id": "28c4501c-dc75-495f-bf53-c477adc85088",
   "metadata": {},
   "source": [
    "## Concat aircraft data"
   ]
  },
  {
   "cell_type": "code",
   "execution_count": 30,
   "id": "ba6a5c60-9a7c-4756-a46d-ed4e8328c945",
   "metadata": {},
   "outputs": [],
   "source": [
    "df_0 = df_our.copy()\n",
    "df_0.loc[:, 'aircraft_id'] = 'ally_1'\n",
    "\n",
    "df_1 = df_bandit\\\n",
    "    .copy()\n",
    "\n",
    "df_2 = df_0.merge(\n",
    "    right=df_1,\n",
    "    left_on=['id_rec', 'c'],\n",
    "    right_on=['id_rec', 'c'],\n",
    "    how='inner',\n",
    "    suffixes=(None, '_bandit'))\n",
    "\n",
    "if len(df_2) != len(df_0): \n",
    "    raise ValueError('there is insyncronoisation between our craft and bandit')\n",
    "\n",
    "df_3 = df_bandit.copy()\n",
    "df_3.loc[:, 'aircraft_id'] = 'ennemy_1'\n",
    "\n",
    "df_4 = df_our\\\n",
    "    .copy()\n",
    "\n",
    "df_5 = df_3.merge(\n",
    "    right=df_4,\n",
    "    left_on=['id_rec', 'c'],\n",
    "    right_on=['id_rec', 'c'],\n",
    "    how='inner',\n",
    "    suffixes=(None, '_bandit'))\n",
    "\n",
    "df_6 = pd.concat([df_2, df_5], ignore_index=True)\n",
    "\n",
    "preprocessed_data = df_6\\\n",
    "    .set_index(['aircraft_id', 'id_rec', 'c'])\\\n",
    "    .sort_index()\\\n",
    "    .reset_index()\\\n",
    "    .copy()\n",
    "\n",
    "del df_0, df_1, df_2, df_3, df_4, df_5, df_6"
   ]
  },
  {
   "cell_type": "markdown",
   "id": "35e39b1e-c212-43ad-b600-941f4970f445",
   "metadata": {},
   "source": [
    "## Exclude first 5 seconds and last 5 seconds"
   ]
  },
  {
   "cell_type": "code",
   "execution_count": 31,
   "id": "55926d6e-4fd0-4a83-942f-844ef09bb1c2",
   "metadata": {},
   "outputs": [],
   "source": [
    "df_0 = preprocessed_data.copy()\n",
    "df_1 = df_0\\\n",
    "    .groupby('id_rec')\\\n",
    "    .agg(\n",
    "        min_sec=pd.NamedAgg('c', 'min'),\n",
    "        max_sec=pd.NamedAgg('c', 'max'))\n",
    "\n",
    "df_3 = pd.DataFrame()\n",
    "for ix, srs in df_1.iterrows():\n",
    "    min_sec = srs['min_sec']\n",
    "    max_sec = srs['max_sec']\n",
    "\n",
    "    df_2 = df_0\\\n",
    "        .query('id_rec == @ix')\\\n",
    "        .query('c <= (@max_sec - 5)')\\\n",
    "        .query('(@min_sec + 5) <= c')\\\n",
    "        .copy()\n",
    "\n",
    "    df_3 = pd.concat([df_3, df_2], ignore_index=True)\n",
    "\n",
    "preprocessed_data = df_3.copy()"
   ]
  },
  {
   "cell_type": "markdown",
   "id": "0b3a3b25-2f2e-45b2-9e97-22ff7754c72e",
   "metadata": {},
   "source": [
    "## Exclude timesteps with no health"
   ]
  },
  {
   "cell_type": "code",
   "execution_count": 32,
   "id": "f4153a4a-3ead-4a05-8277-0bd27b9f9f92",
   "metadata": {},
   "outputs": [],
   "source": [
    "df_0 = preprocessed_data\\\n",
    "    .query('health_level == 0')\\\n",
    "    .loc[:, ['id_rec', 'c']]\\\n",
    "    .groupby('id_rec')\\\n",
    "    .min()\n",
    "\n",
    "for id_rec, srs in df_0.iterrows():\n",
    "    c = srs['c']\n",
    "    ix_to_drop = preprocessed_data\\\n",
    "        .query('id_rec == @id_rec')\\\n",
    "        .query('c >= @c')\\\n",
    "        .index\n",
    "\n",
    "    preprocessed_data = preprocessed_data\\\n",
    "        .drop(ix_to_drop, axis=0)\\\n",
    "        .reset_index(drop=True)\n",
    "\n",
    "del df_0"
   ]
  },
  {
   "cell_type": "markdown",
   "id": "da565ba0-8327-40e7-a6fa-e9ed3830cf86",
   "metadata": {},
   "source": [
    "## Rename field"
   ]
  },
  {
   "cell_type": "code",
   "execution_count": 33,
   "id": "67c0d7f8-cfda-42e1-b45e-0c5197904b50",
   "metadata": {},
   "outputs": [],
   "source": [
    "preprocessed_data.rename(\n",
    "    columns={'c': 'timestep', 'id_rec': 'record_id'},\n",
    "    inplace=True)"
   ]
  },
  {
   "cell_type": "markdown",
   "id": "caf089f8-f27f-4944-b9f8-2c03dafcfad8",
   "metadata": {},
   "source": [
    "## Exclude unnessary columns"
   ]
  },
  {
   "cell_type": "code",
   "execution_count": 34,
   "id": "06711bae-f46d-4e21-a58b-a334a22d9a02",
   "metadata": {},
   "outputs": [],
   "source": [
    "COLS = ['health_level', 'brake_level', 'flaps_level', 'bandit_is_targetted']\n",
    "\n",
    "for col in COLS:\n",
    "    preprocessed_data.drop(columns=[col, f'{col}_bandit'], inplace=True)"
   ]
  },
  {
   "cell_type": "markdown",
   "id": "bf7fa9ec-6722-431d-bfdf-553412675cd5",
   "metadata": {},
   "source": [
    "# Save"
   ]
  },
  {
   "cell_type": "code",
   "execution_count": 35,
   "id": "315ae749-446f-4de1-bcc0-126e140eafcb",
   "metadata": {},
   "outputs": [],
   "source": [
    "preprocessed_data.to_csv(SAVE_DIR, index=False, sep=';')"
   ]
  }
 ],
 "metadata": {
  "kernelspec": {
   "display_name": "Python 3 (ipykernel)",
   "language": "python",
   "name": "python3"
  },
  "language_info": {
   "codemirror_mode": {
    "name": "ipython",
    "version": 3
   },
   "file_extension": ".py",
   "mimetype": "text/x-python",
   "name": "python",
   "nbconvert_exporter": "python",
   "pygments_lexer": "ipython3",
   "version": "3.11.9"
  }
 },
 "nbformat": 4,
 "nbformat_minor": 5
}
