{
 "cells": [
  {
   "cell_type": "markdown",
   "id": "b4df6a5c-9583-4593-b31b-5fdefd05eea5",
   "metadata": {
    "jp-MarkdownHeadingCollapsed": true
   },
   "source": [
    "# Constants"
   ]
  },
  {
   "cell_type": "code",
   "execution_count": 1,
   "id": "42ca8794-16e2-4362-a34c-6249933121f1",
   "metadata": {},
   "outputs": [],
   "source": [
    "OUR_AIRCRAFT_ID = 'ally_1'"
   ]
  },
  {
   "cell_type": "markdown",
   "id": "c6713d96-eba7-44e3-a569-bcf2dc564fa1",
   "metadata": {
    "jp-MarkdownHeadingCollapsed": true
   },
   "source": [
    "# Libraries"
   ]
  },
  {
   "cell_type": "code",
   "execution_count": 2,
   "id": "379eae95-09e6-4ed2-8a21-d332629ba694",
   "metadata": {},
   "outputs": [],
   "source": [
    "import numpy as np\n",
    "\n",
    "import os\n",
    "\n",
    "import pandas as pd\n",
    "\n",
    "import sqlite3"
   ]
  },
  {
   "cell_type": "markdown",
   "id": "b77b263b-0ce4-446d-9ce5-213ef143a059",
   "metadata": {
    "jp-MarkdownHeadingCollapsed": true
   },
   "source": [
    "# Import Data"
   ]
  },
  {
   "cell_type": "code",
   "execution_count": 3,
   "id": "d74eed49-0148-4edb-a3c4-0269111a57f4",
   "metadata": {},
   "outputs": [],
   "source": [
    "my_dir = os.path.join('..', 'data', 'v1_logs.db')\n",
    "\n",
    "# Connect to the database\n",
    "conn = sqlite3.connect(my_dir)\n",
    "\n",
    "aircraft_states = pd.read_sql_query(\"SELECT * FROM aircraft_states\", conn)\n",
    "\n",
    "aircraft_adjustments = pd.read_sql_query(\"SELECT * FROM aircraft_adjustments\", conn)\n",
    "\n",
    "# Close the connection\n",
    "conn.close()"
   ]
  },
  {
   "cell_type": "markdown",
   "id": "c5f70448-d9b2-4f6b-b871-bd6287ddd12b",
   "metadata": {},
   "source": [
    "# Preprocess"
   ]
  },
  {
   "cell_type": "markdown",
   "id": "ca45f7b6-9625-4520-862e-31b6e732fa77",
   "metadata": {
    "jp-MarkdownHeadingCollapsed": true
   },
   "source": [
    "## Split array-like fields"
   ]
  },
  {
   "cell_type": "code",
   "execution_count": 4,
   "id": "2b80e3f2-1283-4335-b2bd-0e44cb5af17f",
   "metadata": {},
   "outputs": [],
   "source": [
    "COLS = ['position', 'Euler_angles', 'move_vector']\n",
    "for col in COLS:\n",
    "\n",
    "    df_0 = aircraft_states.copy()\n",
    "\n",
    "    if not (col in df_0.columns):\n",
    "        print(f'Column {col} does not exist.')\n",
    "        continue\n",
    "        \n",
    "    df_1 = df_0\\\n",
    "        .drop(columns=col)\\\n",
    "        .copy()\n",
    "    \n",
    "    df_2 = df_0\\\n",
    "        .loc[:, col]\\\n",
    "        .str\\\n",
    "        .replace('[', '')\\\n",
    "        .str\\\n",
    "        .replace(']', '')\\\n",
    "        .str\\\n",
    "        .split(',', expand=True)\\\n",
    "        .astype(np.float64)\\\n",
    "        .rename(columns={0: f'{col}_x', 1: f'{col}_y', 2: f'{col}_z'})\\\n",
    "        .copy()\n",
    "\n",
    "    aircraft_states = pd.concat([df_1, df_2], axis=1)"
   ]
  },
  {
   "cell_type": "markdown",
   "id": "5b5cf627-9749-4a74-9bf5-b296f28b739c",
   "metadata": {},
   "source": [
    "## Drop features"
   ]
  },
  {
   "cell_type": "code",
   "execution_count": 5,
   "id": "fa4e3146-8842-46a1-bb03-9f863b131f78",
   "metadata": {},
   "outputs": [],
   "source": [
    "COLS = [\n",
    "    'timestep',\n",
    "    'crashed',\n",
    "    'destroyed',\n",
    "    'easy_steering',\n",
    "    'active',\n",
    "    'type',\n",
    "    'nationality',\n",
    "    'horizontal_speed',\n",
    "    'vertical_speed',\n",
    "    'linear_speed',\n",
    "    'linear_acceleration',\n",
    "    'gear',\n",
    "    'ia',\n",
    "    'autopilot',\n",
    "    'autopilot_heading',\n",
    "    'autopilot_speed',\n",
    "    'autopilot_altitude',\n",
    "    'target_id',\n",
    "    'log_timestamp',\n",
    "    'heading',\n",
    "    'altitude',\n",
    "    'pitch_attitude',\n",
    "    'roll_attitude',\n",
    "    'flaps_level',\n",
    "    'target_angle',\n",
    "    'user_pitch_level',\n",
    "    'user_roll_level',\n",
    "    'user_yaw_level'\n",
    "]\n",
    "aircraft_states = aircraft_states\\\n",
    "    .drop(columns=COLS, errors='ignore')\\\n",
    "    .copy()"
   ]
  },
  {
   "cell_type": "markdown",
   "id": "817ecf4a-5160-44df-9c58-852b17ba1cee",
   "metadata": {},
   "source": [
    "## Pair our arcraft with bandit"
   ]
  },
  {
   "cell_type": "code",
   "execution_count": 6,
   "id": "54ac3221-ff40-4b68-a5e2-810633e9a5ea",
   "metadata": {},
   "outputs": [],
   "source": [
    "df_0 = aircraft_states.copy()\n",
    "# get states of our aircraft\n",
    "df_1 = df_0\\\n",
    "    .query('log_machine_id == @OUR_AIRCRAFT_ID')\\\n",
    "    .drop(columns=['log_machine_id'])\\\n",
    "    .copy()\n",
    "\n",
    "# exclude features that we can't get from the bandit.\n",
    "df_2 = df_0\\\n",
    "    .query('log_machine_id != @OUR_AIRCRAFT_ID')\\\n",
    "    .drop(columns=[\n",
    "        'log_machine_id', 'timestamp', 'health_level', 'wreck',\n",
    "        'thrust_level', 'brake_level',\n",
    "        'post_combustion', 'target_locked', 'target_out_of_range',])\\\n",
    "    .copy()\n",
    "\n",
    "# merge\n",
    "df_3 = df_1.merge(\n",
    "    df_2,\n",
    "    left_on=['simulation_id', 'log_id'],\n",
    "    right_on=['simulation_id', 'log_id'],\n",
    "    how='inner',\n",
    "    suffixes=(None, '_bandit'))\\\n",
    "    .reset_index(drop=True)\\\n",
    "    .copy()\n",
    "\n",
    "preprocessed = df_3.copy()"
   ]
  },
  {
   "cell_type": "markdown",
   "id": "941dce7b-fadd-4097-baf3-1b806aa66d70",
   "metadata": {},
   "source": [
    "## Join aircraft adjustments"
   ]
  },
  {
   "cell_type": "code",
   "execution_count": 7,
   "id": "00b628fd-f6eb-4dc1-9515-3bd7a1a383c2",
   "metadata": {},
   "outputs": [
    {
     "data": {
      "text/plain": [
       "Index(['timestamp', 'health_level', 'wreck', 'thrust_level', 'brake_level',\n",
       "       'post_combustion', 'target_locked', 'target_out_of_range',\n",
       "       'simulation_id', 'log_id', 'position_x', 'position_y', 'position_z',\n",
       "       'Euler_angles_x', 'Euler_angles_y', 'Euler_angles_z', 'move_vector_x',\n",
       "       'move_vector_y', 'move_vector_z', 'position_x_bandit',\n",
       "       'position_y_bandit', 'position_z_bandit', 'Euler_angles_x_bandit',\n",
       "       'Euler_angles_y_bandit', 'Euler_angles_z_bandit',\n",
       "       'move_vector_x_bandit', 'move_vector_y_bandit', 'move_vector_z_bandit'],\n",
       "      dtype='object')"
      ]
     },
     "execution_count": 7,
     "metadata": {},
     "output_type": "execute_result"
    }
   ],
   "source": [
    "preprocessed.columns"
   ]
  },
  {
   "cell_type": "code",
   "execution_count": null,
   "id": "6f14a425-f655-4bb7-9db8-4680ddc4097d",
   "metadata": {},
   "outputs": [],
   "source": [
    "preprocessed.merge(\n",
    "    aircraft_adjustments,\n",
    "    left_on=['simulation_id', 'log_id'],\n",
    "    right_on=['simulation_id', 'log_id'],\n",
    "    how='inner')"
   ]
  },
  {
   "cell_type": "code",
   "execution_count": null,
   "id": "451d54db-b434-49cb-a0f6-40fc56447ea2",
   "metadata": {},
   "outputs": [],
   "source": [
    ".columns"
   ]
  },
  {
   "cell_type": "markdown",
   "id": "ab13ab58-f20f-42b8-ab47-cee4080d4b5b",
   "metadata": {},
   "source": [
    "## Build unique timestamp"
   ]
  },
  {
   "cell_type": "code",
   "execution_count": null,
   "id": "ed72c8b6-fdf2-4977-a472-6de39b151bbd",
   "metadata": {},
   "outputs": [],
   "source": [
    "srs = preprocessed.loc[:, 'simulation_id'] + preprocessed.loc[:, 'timestamp']\n",
    "srs = pd.to_datetime(srs, unit='s')\n",
    "preprocessed.drop(\n",
    "    columns=['simulation_id', 'timestamp'],\n",
    "    inplace=True)\n",
    "preprocessed.loc[:, 'timestamp'] = srs\n",
    "preprocessed = preprocessed\\\n",
    "    .set_index('timestamp')\\\n",
    "    .reset_index(drop=False)"
   ]
  },
  {
   "cell_type": "markdown",
   "id": "498c3e04-926a-42d6-8452-b6c85901d069",
   "metadata": {},
   "source": [
    "# Analysis"
   ]
  },
  {
   "cell_type": "markdown",
   "id": "873640f1-b086-4255-9d82-2ad955ce268e",
   "metadata": {},
   "source": [
    "## Calculate reward"
   ]
  },
  {
   "cell_type": "code",
   "execution_count": null,
   "id": "8303516b-5cfe-46cf-b50b-6ccb8619275a",
   "metadata": {},
   "outputs": [],
   "source": [
    "preprocessed"
   ]
  }
 ],
 "metadata": {
  "kernelspec": {
   "display_name": "Python 3 (ipykernel)",
   "language": "python",
   "name": "python3"
  },
  "language_info": {
   "codemirror_mode": {
    "name": "ipython",
    "version": 3
   },
   "file_extension": ".py",
   "mimetype": "text/x-python",
   "name": "python",
   "nbconvert_exporter": "python",
   "pygments_lexer": "ipython3",
   "version": "3.11.0rc1"
  }
 },
 "nbformat": 4,
 "nbformat_minor": 5
}
